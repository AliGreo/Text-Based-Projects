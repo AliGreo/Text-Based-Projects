{
  "nbformat": 4,
  "nbformat_minor": 0,
  "metadata": {
    "colab": {
      "provenance": [],
      "gpuType": "T4",
      "authorship_tag": "ABX9TyOdF4ElXmuehLxXTLc+BuKe",
      "include_colab_link": true
    },
    "kernelspec": {
      "name": "python3",
      "display_name": "Python 3"
    },
    "language_info": {
      "name": "python"
    },
    "accelerator": "GPU",
    "widgets": {
      "application/vnd.jupyter.widget-state+json": {
        "0a532ea56abb4675ad92ef271bc3c20f": {
          "model_module": "@jupyter-widgets/controls",
          "model_name": "HBoxModel",
          "model_module_version": "1.5.0",
          "state": {
            "_dom_classes": [],
            "_model_module": "@jupyter-widgets/controls",
            "_model_module_version": "1.5.0",
            "_model_name": "HBoxModel",
            "_view_count": null,
            "_view_module": "@jupyter-widgets/controls",
            "_view_module_version": "1.5.0",
            "_view_name": "HBoxView",
            "box_style": "",
            "children": [
              "IPY_MODEL_72a20bd11be94a449c5390fad0a15865",
              "IPY_MODEL_89b9cd3498ae45ed9398b976df225146",
              "IPY_MODEL_d2058669a6a1434d9a9abdfc77da08e0"
            ],
            "layout": "IPY_MODEL_dd3f4c460c1e48a38160925af2b22547"
          }
        },
        "72a20bd11be94a449c5390fad0a15865": {
          "model_module": "@jupyter-widgets/controls",
          "model_name": "HTMLModel",
          "model_module_version": "1.5.0",
          "state": {
            "_dom_classes": [],
            "_model_module": "@jupyter-widgets/controls",
            "_model_module_version": "1.5.0",
            "_model_name": "HTMLModel",
            "_view_count": null,
            "_view_module": "@jupyter-widgets/controls",
            "_view_module_version": "1.5.0",
            "_view_name": "HTMLView",
            "description": "",
            "description_tooltip": null,
            "layout": "IPY_MODEL_ad843637734f41359f267f7741de91e6",
            "placeholder": "​",
            "style": "IPY_MODEL_2aa5fce5fd0d477cbbe1525e9aa06ded",
            "value": "Downloading (…)lve/main/config.json: 100%"
          }
        },
        "89b9cd3498ae45ed9398b976df225146": {
          "model_module": "@jupyter-widgets/controls",
          "model_name": "FloatProgressModel",
          "model_module_version": "1.5.0",
          "state": {
            "_dom_classes": [],
            "_model_module": "@jupyter-widgets/controls",
            "_model_module_version": "1.5.0",
            "_model_name": "FloatProgressModel",
            "_view_count": null,
            "_view_module": "@jupyter-widgets/controls",
            "_view_module_version": "1.5.0",
            "_view_name": "ProgressView",
            "bar_style": "success",
            "description": "",
            "description_tooltip": null,
            "layout": "IPY_MODEL_a1f10cdd74ea4734a9273f23f39f03d1",
            "max": 570,
            "min": 0,
            "orientation": "horizontal",
            "style": "IPY_MODEL_e3b1b365766f4d4d8c2a7953b5db2544",
            "value": 570
          }
        },
        "d2058669a6a1434d9a9abdfc77da08e0": {
          "model_module": "@jupyter-widgets/controls",
          "model_name": "HTMLModel",
          "model_module_version": "1.5.0",
          "state": {
            "_dom_classes": [],
            "_model_module": "@jupyter-widgets/controls",
            "_model_module_version": "1.5.0",
            "_model_name": "HTMLModel",
            "_view_count": null,
            "_view_module": "@jupyter-widgets/controls",
            "_view_module_version": "1.5.0",
            "_view_name": "HTMLView",
            "description": "",
            "description_tooltip": null,
            "layout": "IPY_MODEL_d992b94958224204a870a6d5b0af780c",
            "placeholder": "​",
            "style": "IPY_MODEL_3e9e1ff0257344aea9f3410ff494d88d",
            "value": " 570/570 [00:00&lt;00:00, 30.7kB/s]"
          }
        },
        "dd3f4c460c1e48a38160925af2b22547": {
          "model_module": "@jupyter-widgets/base",
          "model_name": "LayoutModel",
          "model_module_version": "1.2.0",
          "state": {
            "_model_module": "@jupyter-widgets/base",
            "_model_module_version": "1.2.0",
            "_model_name": "LayoutModel",
            "_view_count": null,
            "_view_module": "@jupyter-widgets/base",
            "_view_module_version": "1.2.0",
            "_view_name": "LayoutView",
            "align_content": null,
            "align_items": null,
            "align_self": null,
            "border": null,
            "bottom": null,
            "display": null,
            "flex": null,
            "flex_flow": null,
            "grid_area": null,
            "grid_auto_columns": null,
            "grid_auto_flow": null,
            "grid_auto_rows": null,
            "grid_column": null,
            "grid_gap": null,
            "grid_row": null,
            "grid_template_areas": null,
            "grid_template_columns": null,
            "grid_template_rows": null,
            "height": null,
            "justify_content": null,
            "justify_items": null,
            "left": null,
            "margin": null,
            "max_height": null,
            "max_width": null,
            "min_height": null,
            "min_width": null,
            "object_fit": null,
            "object_position": null,
            "order": null,
            "overflow": null,
            "overflow_x": null,
            "overflow_y": null,
            "padding": null,
            "right": null,
            "top": null,
            "visibility": null,
            "width": null
          }
        },
        "ad843637734f41359f267f7741de91e6": {
          "model_module": "@jupyter-widgets/base",
          "model_name": "LayoutModel",
          "model_module_version": "1.2.0",
          "state": {
            "_model_module": "@jupyter-widgets/base",
            "_model_module_version": "1.2.0",
            "_model_name": "LayoutModel",
            "_view_count": null,
            "_view_module": "@jupyter-widgets/base",
            "_view_module_version": "1.2.0",
            "_view_name": "LayoutView",
            "align_content": null,
            "align_items": null,
            "align_self": null,
            "border": null,
            "bottom": null,
            "display": null,
            "flex": null,
            "flex_flow": null,
            "grid_area": null,
            "grid_auto_columns": null,
            "grid_auto_flow": null,
            "grid_auto_rows": null,
            "grid_column": null,
            "grid_gap": null,
            "grid_row": null,
            "grid_template_areas": null,
            "grid_template_columns": null,
            "grid_template_rows": null,
            "height": null,
            "justify_content": null,
            "justify_items": null,
            "left": null,
            "margin": null,
            "max_height": null,
            "max_width": null,
            "min_height": null,
            "min_width": null,
            "object_fit": null,
            "object_position": null,
            "order": null,
            "overflow": null,
            "overflow_x": null,
            "overflow_y": null,
            "padding": null,
            "right": null,
            "top": null,
            "visibility": null,
            "width": null
          }
        },
        "2aa5fce5fd0d477cbbe1525e9aa06ded": {
          "model_module": "@jupyter-widgets/controls",
          "model_name": "DescriptionStyleModel",
          "model_module_version": "1.5.0",
          "state": {
            "_model_module": "@jupyter-widgets/controls",
            "_model_module_version": "1.5.0",
            "_model_name": "DescriptionStyleModel",
            "_view_count": null,
            "_view_module": "@jupyter-widgets/base",
            "_view_module_version": "1.2.0",
            "_view_name": "StyleView",
            "description_width": ""
          }
        },
        "a1f10cdd74ea4734a9273f23f39f03d1": {
          "model_module": "@jupyter-widgets/base",
          "model_name": "LayoutModel",
          "model_module_version": "1.2.0",
          "state": {
            "_model_module": "@jupyter-widgets/base",
            "_model_module_version": "1.2.0",
            "_model_name": "LayoutModel",
            "_view_count": null,
            "_view_module": "@jupyter-widgets/base",
            "_view_module_version": "1.2.0",
            "_view_name": "LayoutView",
            "align_content": null,
            "align_items": null,
            "align_self": null,
            "border": null,
            "bottom": null,
            "display": null,
            "flex": null,
            "flex_flow": null,
            "grid_area": null,
            "grid_auto_columns": null,
            "grid_auto_flow": null,
            "grid_auto_rows": null,
            "grid_column": null,
            "grid_gap": null,
            "grid_row": null,
            "grid_template_areas": null,
            "grid_template_columns": null,
            "grid_template_rows": null,
            "height": null,
            "justify_content": null,
            "justify_items": null,
            "left": null,
            "margin": null,
            "max_height": null,
            "max_width": null,
            "min_height": null,
            "min_width": null,
            "object_fit": null,
            "object_position": null,
            "order": null,
            "overflow": null,
            "overflow_x": null,
            "overflow_y": null,
            "padding": null,
            "right": null,
            "top": null,
            "visibility": null,
            "width": null
          }
        },
        "e3b1b365766f4d4d8c2a7953b5db2544": {
          "model_module": "@jupyter-widgets/controls",
          "model_name": "ProgressStyleModel",
          "model_module_version": "1.5.0",
          "state": {
            "_model_module": "@jupyter-widgets/controls",
            "_model_module_version": "1.5.0",
            "_model_name": "ProgressStyleModel",
            "_view_count": null,
            "_view_module": "@jupyter-widgets/base",
            "_view_module_version": "1.2.0",
            "_view_name": "StyleView",
            "bar_color": null,
            "description_width": ""
          }
        },
        "d992b94958224204a870a6d5b0af780c": {
          "model_module": "@jupyter-widgets/base",
          "model_name": "LayoutModel",
          "model_module_version": "1.2.0",
          "state": {
            "_model_module": "@jupyter-widgets/base",
            "_model_module_version": "1.2.0",
            "_model_name": "LayoutModel",
            "_view_count": null,
            "_view_module": "@jupyter-widgets/base",
            "_view_module_version": "1.2.0",
            "_view_name": "LayoutView",
            "align_content": null,
            "align_items": null,
            "align_self": null,
            "border": null,
            "bottom": null,
            "display": null,
            "flex": null,
            "flex_flow": null,
            "grid_area": null,
            "grid_auto_columns": null,
            "grid_auto_flow": null,
            "grid_auto_rows": null,
            "grid_column": null,
            "grid_gap": null,
            "grid_row": null,
            "grid_template_areas": null,
            "grid_template_columns": null,
            "grid_template_rows": null,
            "height": null,
            "justify_content": null,
            "justify_items": null,
            "left": null,
            "margin": null,
            "max_height": null,
            "max_width": null,
            "min_height": null,
            "min_width": null,
            "object_fit": null,
            "object_position": null,
            "order": null,
            "overflow": null,
            "overflow_x": null,
            "overflow_y": null,
            "padding": null,
            "right": null,
            "top": null,
            "visibility": null,
            "width": null
          }
        },
        "3e9e1ff0257344aea9f3410ff494d88d": {
          "model_module": "@jupyter-widgets/controls",
          "model_name": "DescriptionStyleModel",
          "model_module_version": "1.5.0",
          "state": {
            "_model_module": "@jupyter-widgets/controls",
            "_model_module_version": "1.5.0",
            "_model_name": "DescriptionStyleModel",
            "_view_count": null,
            "_view_module": "@jupyter-widgets/base",
            "_view_module_version": "1.2.0",
            "_view_name": "StyleView",
            "description_width": ""
          }
        },
        "fd9a0fb4b86b4101b80226febf4d0742": {
          "model_module": "@jupyter-widgets/controls",
          "model_name": "HBoxModel",
          "model_module_version": "1.5.0",
          "state": {
            "_dom_classes": [],
            "_model_module": "@jupyter-widgets/controls",
            "_model_module_version": "1.5.0",
            "_model_name": "HBoxModel",
            "_view_count": null,
            "_view_module": "@jupyter-widgets/controls",
            "_view_module_version": "1.5.0",
            "_view_name": "HBoxView",
            "box_style": "",
            "children": [
              "IPY_MODEL_90b1db3284a04011875604dc6d908679",
              "IPY_MODEL_d8092bfa4fd54d089f9aad0f422f75c4",
              "IPY_MODEL_886d45b98370456b8a8d2da5ee36614b"
            ],
            "layout": "IPY_MODEL_f64691a9b0624776842f4d08a3d6c786"
          }
        },
        "90b1db3284a04011875604dc6d908679": {
          "model_module": "@jupyter-widgets/controls",
          "model_name": "HTMLModel",
          "model_module_version": "1.5.0",
          "state": {
            "_dom_classes": [],
            "_model_module": "@jupyter-widgets/controls",
            "_model_module_version": "1.5.0",
            "_model_name": "HTMLModel",
            "_view_count": null,
            "_view_module": "@jupyter-widgets/controls",
            "_view_module_version": "1.5.0",
            "_view_name": "HTMLView",
            "description": "",
            "description_tooltip": null,
            "layout": "IPY_MODEL_19497a81b8a2437bbd01dacf2dbb92b3",
            "placeholder": "​",
            "style": "IPY_MODEL_c50e525e282840ab95ed4aeb5c8835e2",
            "value": "Downloading model.safetensors: 100%"
          }
        },
        "d8092bfa4fd54d089f9aad0f422f75c4": {
          "model_module": "@jupyter-widgets/controls",
          "model_name": "FloatProgressModel",
          "model_module_version": "1.5.0",
          "state": {
            "_dom_classes": [],
            "_model_module": "@jupyter-widgets/controls",
            "_model_module_version": "1.5.0",
            "_model_name": "FloatProgressModel",
            "_view_count": null,
            "_view_module": "@jupyter-widgets/controls",
            "_view_module_version": "1.5.0",
            "_view_name": "ProgressView",
            "bar_style": "success",
            "description": "",
            "description_tooltip": null,
            "layout": "IPY_MODEL_9aa262e56ec747a6874c8aabc38ccde5",
            "max": 440449768,
            "min": 0,
            "orientation": "horizontal",
            "style": "IPY_MODEL_5b87e175dcef40c3966855daba27ca94",
            "value": 440449768
          }
        },
        "886d45b98370456b8a8d2da5ee36614b": {
          "model_module": "@jupyter-widgets/controls",
          "model_name": "HTMLModel",
          "model_module_version": "1.5.0",
          "state": {
            "_dom_classes": [],
            "_model_module": "@jupyter-widgets/controls",
            "_model_module_version": "1.5.0",
            "_model_name": "HTMLModel",
            "_view_count": null,
            "_view_module": "@jupyter-widgets/controls",
            "_view_module_version": "1.5.0",
            "_view_name": "HTMLView",
            "description": "",
            "description_tooltip": null,
            "layout": "IPY_MODEL_92a82eb423ec460f9dc28b1116169673",
            "placeholder": "​",
            "style": "IPY_MODEL_5cfddd2c3b4541dfaa3322c0f242fd45",
            "value": " 440M/440M [00:01&lt;00:00, 281MB/s]"
          }
        },
        "f64691a9b0624776842f4d08a3d6c786": {
          "model_module": "@jupyter-widgets/base",
          "model_name": "LayoutModel",
          "model_module_version": "1.2.0",
          "state": {
            "_model_module": "@jupyter-widgets/base",
            "_model_module_version": "1.2.0",
            "_model_name": "LayoutModel",
            "_view_count": null,
            "_view_module": "@jupyter-widgets/base",
            "_view_module_version": "1.2.0",
            "_view_name": "LayoutView",
            "align_content": null,
            "align_items": null,
            "align_self": null,
            "border": null,
            "bottom": null,
            "display": null,
            "flex": null,
            "flex_flow": null,
            "grid_area": null,
            "grid_auto_columns": null,
            "grid_auto_flow": null,
            "grid_auto_rows": null,
            "grid_column": null,
            "grid_gap": null,
            "grid_row": null,
            "grid_template_areas": null,
            "grid_template_columns": null,
            "grid_template_rows": null,
            "height": null,
            "justify_content": null,
            "justify_items": null,
            "left": null,
            "margin": null,
            "max_height": null,
            "max_width": null,
            "min_height": null,
            "min_width": null,
            "object_fit": null,
            "object_position": null,
            "order": null,
            "overflow": null,
            "overflow_x": null,
            "overflow_y": null,
            "padding": null,
            "right": null,
            "top": null,
            "visibility": null,
            "width": null
          }
        },
        "19497a81b8a2437bbd01dacf2dbb92b3": {
          "model_module": "@jupyter-widgets/base",
          "model_name": "LayoutModel",
          "model_module_version": "1.2.0",
          "state": {
            "_model_module": "@jupyter-widgets/base",
            "_model_module_version": "1.2.0",
            "_model_name": "LayoutModel",
            "_view_count": null,
            "_view_module": "@jupyter-widgets/base",
            "_view_module_version": "1.2.0",
            "_view_name": "LayoutView",
            "align_content": null,
            "align_items": null,
            "align_self": null,
            "border": null,
            "bottom": null,
            "display": null,
            "flex": null,
            "flex_flow": null,
            "grid_area": null,
            "grid_auto_columns": null,
            "grid_auto_flow": null,
            "grid_auto_rows": null,
            "grid_column": null,
            "grid_gap": null,
            "grid_row": null,
            "grid_template_areas": null,
            "grid_template_columns": null,
            "grid_template_rows": null,
            "height": null,
            "justify_content": null,
            "justify_items": null,
            "left": null,
            "margin": null,
            "max_height": null,
            "max_width": null,
            "min_height": null,
            "min_width": null,
            "object_fit": null,
            "object_position": null,
            "order": null,
            "overflow": null,
            "overflow_x": null,
            "overflow_y": null,
            "padding": null,
            "right": null,
            "top": null,
            "visibility": null,
            "width": null
          }
        },
        "c50e525e282840ab95ed4aeb5c8835e2": {
          "model_module": "@jupyter-widgets/controls",
          "model_name": "DescriptionStyleModel",
          "model_module_version": "1.5.0",
          "state": {
            "_model_module": "@jupyter-widgets/controls",
            "_model_module_version": "1.5.0",
            "_model_name": "DescriptionStyleModel",
            "_view_count": null,
            "_view_module": "@jupyter-widgets/base",
            "_view_module_version": "1.2.0",
            "_view_name": "StyleView",
            "description_width": ""
          }
        },
        "9aa262e56ec747a6874c8aabc38ccde5": {
          "model_module": "@jupyter-widgets/base",
          "model_name": "LayoutModel",
          "model_module_version": "1.2.0",
          "state": {
            "_model_module": "@jupyter-widgets/base",
            "_model_module_version": "1.2.0",
            "_model_name": "LayoutModel",
            "_view_count": null,
            "_view_module": "@jupyter-widgets/base",
            "_view_module_version": "1.2.0",
            "_view_name": "LayoutView",
            "align_content": null,
            "align_items": null,
            "align_self": null,
            "border": null,
            "bottom": null,
            "display": null,
            "flex": null,
            "flex_flow": null,
            "grid_area": null,
            "grid_auto_columns": null,
            "grid_auto_flow": null,
            "grid_auto_rows": null,
            "grid_column": null,
            "grid_gap": null,
            "grid_row": null,
            "grid_template_areas": null,
            "grid_template_columns": null,
            "grid_template_rows": null,
            "height": null,
            "justify_content": null,
            "justify_items": null,
            "left": null,
            "margin": null,
            "max_height": null,
            "max_width": null,
            "min_height": null,
            "min_width": null,
            "object_fit": null,
            "object_position": null,
            "order": null,
            "overflow": null,
            "overflow_x": null,
            "overflow_y": null,
            "padding": null,
            "right": null,
            "top": null,
            "visibility": null,
            "width": null
          }
        },
        "5b87e175dcef40c3966855daba27ca94": {
          "model_module": "@jupyter-widgets/controls",
          "model_name": "ProgressStyleModel",
          "model_module_version": "1.5.0",
          "state": {
            "_model_module": "@jupyter-widgets/controls",
            "_model_module_version": "1.5.0",
            "_model_name": "ProgressStyleModel",
            "_view_count": null,
            "_view_module": "@jupyter-widgets/base",
            "_view_module_version": "1.2.0",
            "_view_name": "StyleView",
            "bar_color": null,
            "description_width": ""
          }
        },
        "92a82eb423ec460f9dc28b1116169673": {
          "model_module": "@jupyter-widgets/base",
          "model_name": "LayoutModel",
          "model_module_version": "1.2.0",
          "state": {
            "_model_module": "@jupyter-widgets/base",
            "_model_module_version": "1.2.0",
            "_model_name": "LayoutModel",
            "_view_count": null,
            "_view_module": "@jupyter-widgets/base",
            "_view_module_version": "1.2.0",
            "_view_name": "LayoutView",
            "align_content": null,
            "align_items": null,
            "align_self": null,
            "border": null,
            "bottom": null,
            "display": null,
            "flex": null,
            "flex_flow": null,
            "grid_area": null,
            "grid_auto_columns": null,
            "grid_auto_flow": null,
            "grid_auto_rows": null,
            "grid_column": null,
            "grid_gap": null,
            "grid_row": null,
            "grid_template_areas": null,
            "grid_template_columns": null,
            "grid_template_rows": null,
            "height": null,
            "justify_content": null,
            "justify_items": null,
            "left": null,
            "margin": null,
            "max_height": null,
            "max_width": null,
            "min_height": null,
            "min_width": null,
            "object_fit": null,
            "object_position": null,
            "order": null,
            "overflow": null,
            "overflow_x": null,
            "overflow_y": null,
            "padding": null,
            "right": null,
            "top": null,
            "visibility": null,
            "width": null
          }
        },
        "5cfddd2c3b4541dfaa3322c0f242fd45": {
          "model_module": "@jupyter-widgets/controls",
          "model_name": "DescriptionStyleModel",
          "model_module_version": "1.5.0",
          "state": {
            "_model_module": "@jupyter-widgets/controls",
            "_model_module_version": "1.5.0",
            "_model_name": "DescriptionStyleModel",
            "_view_count": null,
            "_view_module": "@jupyter-widgets/base",
            "_view_module_version": "1.2.0",
            "_view_name": "StyleView",
            "description_width": ""
          }
        },
        "0b89a1da1b1846c4bdf43f8dcc5e8f58": {
          "model_module": "@jupyter-widgets/controls",
          "model_name": "HBoxModel",
          "model_module_version": "1.5.0",
          "state": {
            "_dom_classes": [],
            "_model_module": "@jupyter-widgets/controls",
            "_model_module_version": "1.5.0",
            "_model_name": "HBoxModel",
            "_view_count": null,
            "_view_module": "@jupyter-widgets/controls",
            "_view_module_version": "1.5.0",
            "_view_name": "HBoxView",
            "box_style": "",
            "children": [
              "IPY_MODEL_bf8a5866f97d43e19e6c00b491f8c747",
              "IPY_MODEL_41e4004019b04ed8af9e3993af1c866d",
              "IPY_MODEL_d5cea7823af34531a5b35ae70c7db50c"
            ],
            "layout": "IPY_MODEL_df17571ca8b34291a4d0e313c19ae939"
          }
        },
        "bf8a5866f97d43e19e6c00b491f8c747": {
          "model_module": "@jupyter-widgets/controls",
          "model_name": "HTMLModel",
          "model_module_version": "1.5.0",
          "state": {
            "_dom_classes": [],
            "_model_module": "@jupyter-widgets/controls",
            "_model_module_version": "1.5.0",
            "_model_name": "HTMLModel",
            "_view_count": null,
            "_view_module": "@jupyter-widgets/controls",
            "_view_module_version": "1.5.0",
            "_view_name": "HTMLView",
            "description": "",
            "description_tooltip": null,
            "layout": "IPY_MODEL_73cb71962b9c4981b485463a48e7a37a",
            "placeholder": "​",
            "style": "IPY_MODEL_9dd53ecdf5384c91b1fefc691871a77e",
            "value": "Downloading (…)solve/main/vocab.txt: 100%"
          }
        },
        "41e4004019b04ed8af9e3993af1c866d": {
          "model_module": "@jupyter-widgets/controls",
          "model_name": "FloatProgressModel",
          "model_module_version": "1.5.0",
          "state": {
            "_dom_classes": [],
            "_model_module": "@jupyter-widgets/controls",
            "_model_module_version": "1.5.0",
            "_model_name": "FloatProgressModel",
            "_view_count": null,
            "_view_module": "@jupyter-widgets/controls",
            "_view_module_version": "1.5.0",
            "_view_name": "ProgressView",
            "bar_style": "success",
            "description": "",
            "description_tooltip": null,
            "layout": "IPY_MODEL_78576b6d317e4293b734160f8a6c23e0",
            "max": 231508,
            "min": 0,
            "orientation": "horizontal",
            "style": "IPY_MODEL_38447d1c2849483a9c0b0c8afad90013",
            "value": 231508
          }
        },
        "d5cea7823af34531a5b35ae70c7db50c": {
          "model_module": "@jupyter-widgets/controls",
          "model_name": "HTMLModel",
          "model_module_version": "1.5.0",
          "state": {
            "_dom_classes": [],
            "_model_module": "@jupyter-widgets/controls",
            "_model_module_version": "1.5.0",
            "_model_name": "HTMLModel",
            "_view_count": null,
            "_view_module": "@jupyter-widgets/controls",
            "_view_module_version": "1.5.0",
            "_view_name": "HTMLView",
            "description": "",
            "description_tooltip": null,
            "layout": "IPY_MODEL_96135d5189fd431e83fe0bf44bbc2923",
            "placeholder": "​",
            "style": "IPY_MODEL_4b21ae8be5a749c682e5f3f5d7ce0fd5",
            "value": " 232k/232k [00:00&lt;00:00, 512kB/s]"
          }
        },
        "df17571ca8b34291a4d0e313c19ae939": {
          "model_module": "@jupyter-widgets/base",
          "model_name": "LayoutModel",
          "model_module_version": "1.2.0",
          "state": {
            "_model_module": "@jupyter-widgets/base",
            "_model_module_version": "1.2.0",
            "_model_name": "LayoutModel",
            "_view_count": null,
            "_view_module": "@jupyter-widgets/base",
            "_view_module_version": "1.2.0",
            "_view_name": "LayoutView",
            "align_content": null,
            "align_items": null,
            "align_self": null,
            "border": null,
            "bottom": null,
            "display": null,
            "flex": null,
            "flex_flow": null,
            "grid_area": null,
            "grid_auto_columns": null,
            "grid_auto_flow": null,
            "grid_auto_rows": null,
            "grid_column": null,
            "grid_gap": null,
            "grid_row": null,
            "grid_template_areas": null,
            "grid_template_columns": null,
            "grid_template_rows": null,
            "height": null,
            "justify_content": null,
            "justify_items": null,
            "left": null,
            "margin": null,
            "max_height": null,
            "max_width": null,
            "min_height": null,
            "min_width": null,
            "object_fit": null,
            "object_position": null,
            "order": null,
            "overflow": null,
            "overflow_x": null,
            "overflow_y": null,
            "padding": null,
            "right": null,
            "top": null,
            "visibility": null,
            "width": null
          }
        },
        "73cb71962b9c4981b485463a48e7a37a": {
          "model_module": "@jupyter-widgets/base",
          "model_name": "LayoutModel",
          "model_module_version": "1.2.0",
          "state": {
            "_model_module": "@jupyter-widgets/base",
            "_model_module_version": "1.2.0",
            "_model_name": "LayoutModel",
            "_view_count": null,
            "_view_module": "@jupyter-widgets/base",
            "_view_module_version": "1.2.0",
            "_view_name": "LayoutView",
            "align_content": null,
            "align_items": null,
            "align_self": null,
            "border": null,
            "bottom": null,
            "display": null,
            "flex": null,
            "flex_flow": null,
            "grid_area": null,
            "grid_auto_columns": null,
            "grid_auto_flow": null,
            "grid_auto_rows": null,
            "grid_column": null,
            "grid_gap": null,
            "grid_row": null,
            "grid_template_areas": null,
            "grid_template_columns": null,
            "grid_template_rows": null,
            "height": null,
            "justify_content": null,
            "justify_items": null,
            "left": null,
            "margin": null,
            "max_height": null,
            "max_width": null,
            "min_height": null,
            "min_width": null,
            "object_fit": null,
            "object_position": null,
            "order": null,
            "overflow": null,
            "overflow_x": null,
            "overflow_y": null,
            "padding": null,
            "right": null,
            "top": null,
            "visibility": null,
            "width": null
          }
        },
        "9dd53ecdf5384c91b1fefc691871a77e": {
          "model_module": "@jupyter-widgets/controls",
          "model_name": "DescriptionStyleModel",
          "model_module_version": "1.5.0",
          "state": {
            "_model_module": "@jupyter-widgets/controls",
            "_model_module_version": "1.5.0",
            "_model_name": "DescriptionStyleModel",
            "_view_count": null,
            "_view_module": "@jupyter-widgets/base",
            "_view_module_version": "1.2.0",
            "_view_name": "StyleView",
            "description_width": ""
          }
        },
        "78576b6d317e4293b734160f8a6c23e0": {
          "model_module": "@jupyter-widgets/base",
          "model_name": "LayoutModel",
          "model_module_version": "1.2.0",
          "state": {
            "_model_module": "@jupyter-widgets/base",
            "_model_module_version": "1.2.0",
            "_model_name": "LayoutModel",
            "_view_count": null,
            "_view_module": "@jupyter-widgets/base",
            "_view_module_version": "1.2.0",
            "_view_name": "LayoutView",
            "align_content": null,
            "align_items": null,
            "align_self": null,
            "border": null,
            "bottom": null,
            "display": null,
            "flex": null,
            "flex_flow": null,
            "grid_area": null,
            "grid_auto_columns": null,
            "grid_auto_flow": null,
            "grid_auto_rows": null,
            "grid_column": null,
            "grid_gap": null,
            "grid_row": null,
            "grid_template_areas": null,
            "grid_template_columns": null,
            "grid_template_rows": null,
            "height": null,
            "justify_content": null,
            "justify_items": null,
            "left": null,
            "margin": null,
            "max_height": null,
            "max_width": null,
            "min_height": null,
            "min_width": null,
            "object_fit": null,
            "object_position": null,
            "order": null,
            "overflow": null,
            "overflow_x": null,
            "overflow_y": null,
            "padding": null,
            "right": null,
            "top": null,
            "visibility": null,
            "width": null
          }
        },
        "38447d1c2849483a9c0b0c8afad90013": {
          "model_module": "@jupyter-widgets/controls",
          "model_name": "ProgressStyleModel",
          "model_module_version": "1.5.0",
          "state": {
            "_model_module": "@jupyter-widgets/controls",
            "_model_module_version": "1.5.0",
            "_model_name": "ProgressStyleModel",
            "_view_count": null,
            "_view_module": "@jupyter-widgets/base",
            "_view_module_version": "1.2.0",
            "_view_name": "StyleView",
            "bar_color": null,
            "description_width": ""
          }
        },
        "96135d5189fd431e83fe0bf44bbc2923": {
          "model_module": "@jupyter-widgets/base",
          "model_name": "LayoutModel",
          "model_module_version": "1.2.0",
          "state": {
            "_model_module": "@jupyter-widgets/base",
            "_model_module_version": "1.2.0",
            "_model_name": "LayoutModel",
            "_view_count": null,
            "_view_module": "@jupyter-widgets/base",
            "_view_module_version": "1.2.0",
            "_view_name": "LayoutView",
            "align_content": null,
            "align_items": null,
            "align_self": null,
            "border": null,
            "bottom": null,
            "display": null,
            "flex": null,
            "flex_flow": null,
            "grid_area": null,
            "grid_auto_columns": null,
            "grid_auto_flow": null,
            "grid_auto_rows": null,
            "grid_column": null,
            "grid_gap": null,
            "grid_row": null,
            "grid_template_areas": null,
            "grid_template_columns": null,
            "grid_template_rows": null,
            "height": null,
            "justify_content": null,
            "justify_items": null,
            "left": null,
            "margin": null,
            "max_height": null,
            "max_width": null,
            "min_height": null,
            "min_width": null,
            "object_fit": null,
            "object_position": null,
            "order": null,
            "overflow": null,
            "overflow_x": null,
            "overflow_y": null,
            "padding": null,
            "right": null,
            "top": null,
            "visibility": null,
            "width": null
          }
        },
        "4b21ae8be5a749c682e5f3f5d7ce0fd5": {
          "model_module": "@jupyter-widgets/controls",
          "model_name": "DescriptionStyleModel",
          "model_module_version": "1.5.0",
          "state": {
            "_model_module": "@jupyter-widgets/controls",
            "_model_module_version": "1.5.0",
            "_model_name": "DescriptionStyleModel",
            "_view_count": null,
            "_view_module": "@jupyter-widgets/base",
            "_view_module_version": "1.2.0",
            "_view_name": "StyleView",
            "description_width": ""
          }
        },
        "aff42ffd391c4637afce9da3a9be9930": {
          "model_module": "@jupyter-widgets/controls",
          "model_name": "HBoxModel",
          "model_module_version": "1.5.0",
          "state": {
            "_dom_classes": [],
            "_model_module": "@jupyter-widgets/controls",
            "_model_module_version": "1.5.0",
            "_model_name": "HBoxModel",
            "_view_count": null,
            "_view_module": "@jupyter-widgets/controls",
            "_view_module_version": "1.5.0",
            "_view_name": "HBoxView",
            "box_style": "",
            "children": [
              "IPY_MODEL_94da99b8883f413b9cdce7a3b01395a7",
              "IPY_MODEL_e8d4642fac3b4563830fddc53b6175d9",
              "IPY_MODEL_edf53ff8cf724cd6af5d32ff5c174d5a"
            ],
            "layout": "IPY_MODEL_90425544d48a4faab18db2abcfcaccce"
          }
        },
        "94da99b8883f413b9cdce7a3b01395a7": {
          "model_module": "@jupyter-widgets/controls",
          "model_name": "HTMLModel",
          "model_module_version": "1.5.0",
          "state": {
            "_dom_classes": [],
            "_model_module": "@jupyter-widgets/controls",
            "_model_module_version": "1.5.0",
            "_model_name": "HTMLModel",
            "_view_count": null,
            "_view_module": "@jupyter-widgets/controls",
            "_view_module_version": "1.5.0",
            "_view_name": "HTMLView",
            "description": "",
            "description_tooltip": null,
            "layout": "IPY_MODEL_bd88b598a2064bceacd7c9fcf14b3172",
            "placeholder": "​",
            "style": "IPY_MODEL_565a6edd4b88453494196419e90f6b1e",
            "value": "Downloading (…)okenizer_config.json: 100%"
          }
        },
        "e8d4642fac3b4563830fddc53b6175d9": {
          "model_module": "@jupyter-widgets/controls",
          "model_name": "FloatProgressModel",
          "model_module_version": "1.5.0",
          "state": {
            "_dom_classes": [],
            "_model_module": "@jupyter-widgets/controls",
            "_model_module_version": "1.5.0",
            "_model_name": "FloatProgressModel",
            "_view_count": null,
            "_view_module": "@jupyter-widgets/controls",
            "_view_module_version": "1.5.0",
            "_view_name": "ProgressView",
            "bar_style": "success",
            "description": "",
            "description_tooltip": null,
            "layout": "IPY_MODEL_6b05fce149cb4cbe8a3a6dde2f7bb110",
            "max": 28,
            "min": 0,
            "orientation": "horizontal",
            "style": "IPY_MODEL_7aa81b13feb047a5b204b07dcb3a0832",
            "value": 28
          }
        },
        "edf53ff8cf724cd6af5d32ff5c174d5a": {
          "model_module": "@jupyter-widgets/controls",
          "model_name": "HTMLModel",
          "model_module_version": "1.5.0",
          "state": {
            "_dom_classes": [],
            "_model_module": "@jupyter-widgets/controls",
            "_model_module_version": "1.5.0",
            "_model_name": "HTMLModel",
            "_view_count": null,
            "_view_module": "@jupyter-widgets/controls",
            "_view_module_version": "1.5.0",
            "_view_name": "HTMLView",
            "description": "",
            "description_tooltip": null,
            "layout": "IPY_MODEL_ea61caa1029243f3af882b61b12642c7",
            "placeholder": "​",
            "style": "IPY_MODEL_ad5486582bf6461c8025d5061172bbf8",
            "value": " 28.0/28.0 [00:00&lt;00:00, 2.04kB/s]"
          }
        },
        "90425544d48a4faab18db2abcfcaccce": {
          "model_module": "@jupyter-widgets/base",
          "model_name": "LayoutModel",
          "model_module_version": "1.2.0",
          "state": {
            "_model_module": "@jupyter-widgets/base",
            "_model_module_version": "1.2.0",
            "_model_name": "LayoutModel",
            "_view_count": null,
            "_view_module": "@jupyter-widgets/base",
            "_view_module_version": "1.2.0",
            "_view_name": "LayoutView",
            "align_content": null,
            "align_items": null,
            "align_self": null,
            "border": null,
            "bottom": null,
            "display": null,
            "flex": null,
            "flex_flow": null,
            "grid_area": null,
            "grid_auto_columns": null,
            "grid_auto_flow": null,
            "grid_auto_rows": null,
            "grid_column": null,
            "grid_gap": null,
            "grid_row": null,
            "grid_template_areas": null,
            "grid_template_columns": null,
            "grid_template_rows": null,
            "height": null,
            "justify_content": null,
            "justify_items": null,
            "left": null,
            "margin": null,
            "max_height": null,
            "max_width": null,
            "min_height": null,
            "min_width": null,
            "object_fit": null,
            "object_position": null,
            "order": null,
            "overflow": null,
            "overflow_x": null,
            "overflow_y": null,
            "padding": null,
            "right": null,
            "top": null,
            "visibility": null,
            "width": null
          }
        },
        "bd88b598a2064bceacd7c9fcf14b3172": {
          "model_module": "@jupyter-widgets/base",
          "model_name": "LayoutModel",
          "model_module_version": "1.2.0",
          "state": {
            "_model_module": "@jupyter-widgets/base",
            "_model_module_version": "1.2.0",
            "_model_name": "LayoutModel",
            "_view_count": null,
            "_view_module": "@jupyter-widgets/base",
            "_view_module_version": "1.2.0",
            "_view_name": "LayoutView",
            "align_content": null,
            "align_items": null,
            "align_self": null,
            "border": null,
            "bottom": null,
            "display": null,
            "flex": null,
            "flex_flow": null,
            "grid_area": null,
            "grid_auto_columns": null,
            "grid_auto_flow": null,
            "grid_auto_rows": null,
            "grid_column": null,
            "grid_gap": null,
            "grid_row": null,
            "grid_template_areas": null,
            "grid_template_columns": null,
            "grid_template_rows": null,
            "height": null,
            "justify_content": null,
            "justify_items": null,
            "left": null,
            "margin": null,
            "max_height": null,
            "max_width": null,
            "min_height": null,
            "min_width": null,
            "object_fit": null,
            "object_position": null,
            "order": null,
            "overflow": null,
            "overflow_x": null,
            "overflow_y": null,
            "padding": null,
            "right": null,
            "top": null,
            "visibility": null,
            "width": null
          }
        },
        "565a6edd4b88453494196419e90f6b1e": {
          "model_module": "@jupyter-widgets/controls",
          "model_name": "DescriptionStyleModel",
          "model_module_version": "1.5.0",
          "state": {
            "_model_module": "@jupyter-widgets/controls",
            "_model_module_version": "1.5.0",
            "_model_name": "DescriptionStyleModel",
            "_view_count": null,
            "_view_module": "@jupyter-widgets/base",
            "_view_module_version": "1.2.0",
            "_view_name": "StyleView",
            "description_width": ""
          }
        },
        "6b05fce149cb4cbe8a3a6dde2f7bb110": {
          "model_module": "@jupyter-widgets/base",
          "model_name": "LayoutModel",
          "model_module_version": "1.2.0",
          "state": {
            "_model_module": "@jupyter-widgets/base",
            "_model_module_version": "1.2.0",
            "_model_name": "LayoutModel",
            "_view_count": null,
            "_view_module": "@jupyter-widgets/base",
            "_view_module_version": "1.2.0",
            "_view_name": "LayoutView",
            "align_content": null,
            "align_items": null,
            "align_self": null,
            "border": null,
            "bottom": null,
            "display": null,
            "flex": null,
            "flex_flow": null,
            "grid_area": null,
            "grid_auto_columns": null,
            "grid_auto_flow": null,
            "grid_auto_rows": null,
            "grid_column": null,
            "grid_gap": null,
            "grid_row": null,
            "grid_template_areas": null,
            "grid_template_columns": null,
            "grid_template_rows": null,
            "height": null,
            "justify_content": null,
            "justify_items": null,
            "left": null,
            "margin": null,
            "max_height": null,
            "max_width": null,
            "min_height": null,
            "min_width": null,
            "object_fit": null,
            "object_position": null,
            "order": null,
            "overflow": null,
            "overflow_x": null,
            "overflow_y": null,
            "padding": null,
            "right": null,
            "top": null,
            "visibility": null,
            "width": null
          }
        },
        "7aa81b13feb047a5b204b07dcb3a0832": {
          "model_module": "@jupyter-widgets/controls",
          "model_name": "ProgressStyleModel",
          "model_module_version": "1.5.0",
          "state": {
            "_model_module": "@jupyter-widgets/controls",
            "_model_module_version": "1.5.0",
            "_model_name": "ProgressStyleModel",
            "_view_count": null,
            "_view_module": "@jupyter-widgets/base",
            "_view_module_version": "1.2.0",
            "_view_name": "StyleView",
            "bar_color": null,
            "description_width": ""
          }
        },
        "ea61caa1029243f3af882b61b12642c7": {
          "model_module": "@jupyter-widgets/base",
          "model_name": "LayoutModel",
          "model_module_version": "1.2.0",
          "state": {
            "_model_module": "@jupyter-widgets/base",
            "_model_module_version": "1.2.0",
            "_model_name": "LayoutModel",
            "_view_count": null,
            "_view_module": "@jupyter-widgets/base",
            "_view_module_version": "1.2.0",
            "_view_name": "LayoutView",
            "align_content": null,
            "align_items": null,
            "align_self": null,
            "border": null,
            "bottom": null,
            "display": null,
            "flex": null,
            "flex_flow": null,
            "grid_area": null,
            "grid_auto_columns": null,
            "grid_auto_flow": null,
            "grid_auto_rows": null,
            "grid_column": null,
            "grid_gap": null,
            "grid_row": null,
            "grid_template_areas": null,
            "grid_template_columns": null,
            "grid_template_rows": null,
            "height": null,
            "justify_content": null,
            "justify_items": null,
            "left": null,
            "margin": null,
            "max_height": null,
            "max_width": null,
            "min_height": null,
            "min_width": null,
            "object_fit": null,
            "object_position": null,
            "order": null,
            "overflow": null,
            "overflow_x": null,
            "overflow_y": null,
            "padding": null,
            "right": null,
            "top": null,
            "visibility": null,
            "width": null
          }
        },
        "ad5486582bf6461c8025d5061172bbf8": {
          "model_module": "@jupyter-widgets/controls",
          "model_name": "DescriptionStyleModel",
          "model_module_version": "1.5.0",
          "state": {
            "_model_module": "@jupyter-widgets/controls",
            "_model_module_version": "1.5.0",
            "_model_name": "DescriptionStyleModel",
            "_view_count": null,
            "_view_module": "@jupyter-widgets/base",
            "_view_module_version": "1.2.0",
            "_view_name": "StyleView",
            "description_width": ""
          }
        }
      }
    }
  },
  "cells": [
    {
      "cell_type": "markdown",
      "metadata": {
        "id": "view-in-github",
        "colab_type": "text"
      },
      "source": [
        "<a href=\"https://colab.research.google.com/github/Aligreu/Text-Based-Projects/blob/main/finetuneBertForTextAnalysis.ipynb\" target=\"_parent\"><img src=\"https://colab.research.google.com/assets/colab-badge.svg\" alt=\"Open In Colab\"/></a>"
      ]
    },
    {
      "cell_type": "code",
      "execution_count": 1,
      "metadata": {
        "colab": {
          "base_uri": "https://localhost:8080/"
        },
        "id": "kT9tYUV3ZSSz",
        "outputId": "6804d621-95f4-48bc-d2b0-6953460d6477"
      },
      "outputs": [
        {
          "output_type": "stream",
          "name": "stdout",
          "text": [
            "\u001b[2K     \u001b[90m━━━━━━━━━━━━━━━━━━━━━━━━━━━━━━━━━━━━━━━━\u001b[0m \u001b[32m7.2/7.2 MB\u001b[0m \u001b[31m39.4 MB/s\u001b[0m eta \u001b[36m0:00:00\u001b[0m\n",
            "\u001b[2K     \u001b[90m━━━━━━━━━━━━━━━━━━━━━━━━━━━━━━━━━━━━━━\u001b[0m \u001b[32m236.8/236.8 kB\u001b[0m \u001b[31m25.1 MB/s\u001b[0m eta \u001b[36m0:00:00\u001b[0m\n",
            "\u001b[2K     \u001b[90m━━━━━━━━━━━━━━━━━━━━━━━━━━━━━━━━━━━━━━━━\u001b[0m \u001b[32m7.8/7.8 MB\u001b[0m \u001b[31m73.8 MB/s\u001b[0m eta \u001b[36m0:00:00\u001b[0m\n",
            "\u001b[2K     \u001b[90m━━━━━━━━━━━━━━━━━━━━━━━━━━━━━━━━━━━━━━━━\u001b[0m \u001b[32m1.3/1.3 MB\u001b[0m \u001b[31m62.3 MB/s\u001b[0m eta \u001b[36m0:00:00\u001b[0m\n",
            "\u001b[?25h"
          ]
        }
      ],
      "source": [
        "!pip install transformers -q"
      ]
    },
    {
      "cell_type": "code",
      "source": [
        "import pandas as pd\n",
        "import numpy as np\n",
        "import matplotlib.pyplot as plt\n",
        "import seaborn as sns\n",
        "from transformers import AutoTokenizer, BertModel"
      ],
      "metadata": {
        "id": "hrWaQS3JZbsQ"
      },
      "execution_count": 2,
      "outputs": []
    },
    {
      "cell_type": "code",
      "source": [
        "!unzip /content/twitterRedditdatasets.zip"
      ],
      "metadata": {
        "colab": {
          "base_uri": "https://localhost:8080/"
        },
        "id": "2NxIJsQsZwAT",
        "outputId": "a1492bf6-8002-475a-f215-cf0931f25bf8"
      },
      "execution_count": 5,
      "outputs": [
        {
          "output_type": "stream",
          "name": "stdout",
          "text": [
            "Archive:  /content/twitterRedditdatasets.zip\n",
            "  inflating: Reddit_Data.csv         \n",
            "  inflating: Twitter_Data.csv        \n"
          ]
        }
      ]
    },
    {
      "cell_type": "code",
      "source": [
        "twitter_data = pd.read_csv(\"/content/Twitter_Data.csv\")\n",
        "twitter_data.head()"
      ],
      "metadata": {
        "colab": {
          "base_uri": "https://localhost:8080/",
          "height": 206
        },
        "id": "IwuifLRhbby_",
        "outputId": "b0496037-89d3-4633-e26b-e90355304990"
      },
      "execution_count": 6,
      "outputs": [
        {
          "output_type": "execute_result",
          "data": {
            "text/plain": [
              "                                          clean_text  category\n",
              "0  when modi promised “minimum government maximum...      -1.0\n",
              "1  talk all the nonsense and continue all the dra...       0.0\n",
              "2  what did just say vote for modi  welcome bjp t...       1.0\n",
              "3  asking his supporters prefix chowkidar their n...       1.0\n",
              "4  answer who among these the most powerful world...       1.0"
            ],
            "text/html": [
              "\n",
              "  <div id=\"df-7895baf7-5a99-4fd2-8d9a-2dfd55b428b3\">\n",
              "    <div class=\"colab-df-container\">\n",
              "      <div>\n",
              "<style scoped>\n",
              "    .dataframe tbody tr th:only-of-type {\n",
              "        vertical-align: middle;\n",
              "    }\n",
              "\n",
              "    .dataframe tbody tr th {\n",
              "        vertical-align: top;\n",
              "    }\n",
              "\n",
              "    .dataframe thead th {\n",
              "        text-align: right;\n",
              "    }\n",
              "</style>\n",
              "<table border=\"1\" class=\"dataframe\">\n",
              "  <thead>\n",
              "    <tr style=\"text-align: right;\">\n",
              "      <th></th>\n",
              "      <th>clean_text</th>\n",
              "      <th>category</th>\n",
              "    </tr>\n",
              "  </thead>\n",
              "  <tbody>\n",
              "    <tr>\n",
              "      <th>0</th>\n",
              "      <td>when modi promised “minimum government maximum...</td>\n",
              "      <td>-1.0</td>\n",
              "    </tr>\n",
              "    <tr>\n",
              "      <th>1</th>\n",
              "      <td>talk all the nonsense and continue all the dra...</td>\n",
              "      <td>0.0</td>\n",
              "    </tr>\n",
              "    <tr>\n",
              "      <th>2</th>\n",
              "      <td>what did just say vote for modi  welcome bjp t...</td>\n",
              "      <td>1.0</td>\n",
              "    </tr>\n",
              "    <tr>\n",
              "      <th>3</th>\n",
              "      <td>asking his supporters prefix chowkidar their n...</td>\n",
              "      <td>1.0</td>\n",
              "    </tr>\n",
              "    <tr>\n",
              "      <th>4</th>\n",
              "      <td>answer who among these the most powerful world...</td>\n",
              "      <td>1.0</td>\n",
              "    </tr>\n",
              "  </tbody>\n",
              "</table>\n",
              "</div>\n",
              "      <button class=\"colab-df-convert\" onclick=\"convertToInteractive('df-7895baf7-5a99-4fd2-8d9a-2dfd55b428b3')\"\n",
              "              title=\"Convert this dataframe to an interactive table.\"\n",
              "              style=\"display:none;\">\n",
              "        \n",
              "  <svg xmlns=\"http://www.w3.org/2000/svg\" height=\"24px\"viewBox=\"0 0 24 24\"\n",
              "       width=\"24px\">\n",
              "    <path d=\"M0 0h24v24H0V0z\" fill=\"none\"/>\n",
              "    <path d=\"M18.56 5.44l.94 2.06.94-2.06 2.06-.94-2.06-.94-.94-2.06-.94 2.06-2.06.94zm-11 1L8.5 8.5l.94-2.06 2.06-.94-2.06-.94L8.5 2.5l-.94 2.06-2.06.94zm10 10l.94 2.06.94-2.06 2.06-.94-2.06-.94-.94-2.06-.94 2.06-2.06.94z\"/><path d=\"M17.41 7.96l-1.37-1.37c-.4-.4-.92-.59-1.43-.59-.52 0-1.04.2-1.43.59L10.3 9.45l-7.72 7.72c-.78.78-.78 2.05 0 2.83L4 21.41c.39.39.9.59 1.41.59.51 0 1.02-.2 1.41-.59l7.78-7.78 2.81-2.81c.8-.78.8-2.07 0-2.86zM5.41 20L4 18.59l7.72-7.72 1.47 1.35L5.41 20z\"/>\n",
              "  </svg>\n",
              "      </button>\n",
              "      \n",
              "  <style>\n",
              "    .colab-df-container {\n",
              "      display:flex;\n",
              "      flex-wrap:wrap;\n",
              "      gap: 12px;\n",
              "    }\n",
              "\n",
              "    .colab-df-convert {\n",
              "      background-color: #E8F0FE;\n",
              "      border: none;\n",
              "      border-radius: 50%;\n",
              "      cursor: pointer;\n",
              "      display: none;\n",
              "      fill: #1967D2;\n",
              "      height: 32px;\n",
              "      padding: 0 0 0 0;\n",
              "      width: 32px;\n",
              "    }\n",
              "\n",
              "    .colab-df-convert:hover {\n",
              "      background-color: #E2EBFA;\n",
              "      box-shadow: 0px 1px 2px rgba(60, 64, 67, 0.3), 0px 1px 3px 1px rgba(60, 64, 67, 0.15);\n",
              "      fill: #174EA6;\n",
              "    }\n",
              "\n",
              "    [theme=dark] .colab-df-convert {\n",
              "      background-color: #3B4455;\n",
              "      fill: #D2E3FC;\n",
              "    }\n",
              "\n",
              "    [theme=dark] .colab-df-convert:hover {\n",
              "      background-color: #434B5C;\n",
              "      box-shadow: 0px 1px 3px 1px rgba(0, 0, 0, 0.15);\n",
              "      filter: drop-shadow(0px 1px 2px rgba(0, 0, 0, 0.3));\n",
              "      fill: #FFFFFF;\n",
              "    }\n",
              "  </style>\n",
              "\n",
              "      <script>\n",
              "        const buttonEl =\n",
              "          document.querySelector('#df-7895baf7-5a99-4fd2-8d9a-2dfd55b428b3 button.colab-df-convert');\n",
              "        buttonEl.style.display =\n",
              "          google.colab.kernel.accessAllowed ? 'block' : 'none';\n",
              "\n",
              "        async function convertToInteractive(key) {\n",
              "          const element = document.querySelector('#df-7895baf7-5a99-4fd2-8d9a-2dfd55b428b3');\n",
              "          const dataTable =\n",
              "            await google.colab.kernel.invokeFunction('convertToInteractive',\n",
              "                                                     [key], {});\n",
              "          if (!dataTable) return;\n",
              "\n",
              "          const docLinkHtml = 'Like what you see? Visit the ' +\n",
              "            '<a target=\"_blank\" href=https://colab.research.google.com/notebooks/data_table.ipynb>data table notebook</a>'\n",
              "            + ' to learn more about interactive tables.';\n",
              "          element.innerHTML = '';\n",
              "          dataTable['output_type'] = 'display_data';\n",
              "          await google.colab.output.renderOutput(dataTable, element);\n",
              "          const docLink = document.createElement('div');\n",
              "          docLink.innerHTML = docLinkHtml;\n",
              "          element.appendChild(docLink);\n",
              "        }\n",
              "      </script>\n",
              "    </div>\n",
              "  </div>\n",
              "  "
            ]
          },
          "metadata": {},
          "execution_count": 6
        }
      ]
    },
    {
      "cell_type": "code",
      "source": [
        "twitter_data['category'] = twitter_data.category.replace({\n",
        "    -1:'Negative',\n",
        "    0:'Normal',\n",
        "    1:\"Positive\"\n",
        "})"
      ],
      "metadata": {
        "id": "CsXQGvSvsA1e"
      },
      "execution_count": 21,
      "outputs": []
    },
    {
      "cell_type": "code",
      "source": [
        "twitter_data.shape"
      ],
      "metadata": {
        "colab": {
          "base_uri": "https://localhost:8080/"
        },
        "id": "PKtJsWKMcAgM",
        "outputId": "10aa3129-cd34-448b-8f70-3de387f33fc1"
      },
      "execution_count": 22,
      "outputs": [
        {
          "output_type": "execute_result",
          "data": {
            "text/plain": [
              "(162980, 2)"
            ]
          },
          "metadata": {},
          "execution_count": 22
        }
      ]
    },
    {
      "cell_type": "code",
      "source": [
        "data = twitter_data.sample(n=15000, random_state=42)"
      ],
      "metadata": {
        "id": "M8LQ5O99cEK8"
      },
      "execution_count": 23,
      "outputs": []
    },
    {
      "cell_type": "code",
      "source": [
        "data.category.value_counts()"
      ],
      "metadata": {
        "colab": {
          "base_uri": "https://localhost:8080/"
        },
        "id": "VVAMLcxJcV3R",
        "outputId": "74a6832d-067a-4dae-999c-c6b255c83bc3"
      },
      "execution_count": 24,
      "outputs": [
        {
          "output_type": "execute_result",
          "data": {
            "text/plain": [
              "Positive    6676\n",
              "Normal      5019\n",
              "Negative    3305\n",
              "Name: category, dtype: int64"
            ]
          },
          "metadata": {},
          "execution_count": 24
        }
      ]
    },
    {
      "cell_type": "code",
      "source": [
        "X = data['clean_text'].to_list()\n",
        "Y = data['category']"
      ],
      "metadata": {
        "id": "ycnrMHePdPoV"
      },
      "execution_count": 25,
      "outputs": []
    },
    {
      "cell_type": "code",
      "source": [
        "from sklearn.preprocessing import LabelBinarizer\n",
        "\n",
        "Y_encode = LabelBinarizer().fit_transform(Y)"
      ],
      "metadata": {
        "id": "uKQttS-Td6aB"
      },
      "execution_count": 29,
      "outputs": []
    },
    {
      "cell_type": "code",
      "source": [
        "Y_encode[:5, :]"
      ],
      "metadata": {
        "colab": {
          "base_uri": "https://localhost:8080/"
        },
        "id": "MyqYWWKzi7km",
        "outputId": "ebf1ebf8-e024-4366-c428-e7b820cb2fd8"
      },
      "execution_count": 30,
      "outputs": [
        {
          "output_type": "execute_result",
          "data": {
            "text/plain": [
              "array([[0, 1, 0],\n",
              "       [0, 1, 0],\n",
              "       [0, 0, 1],\n",
              "       [0, 1, 0],\n",
              "       [0, 1, 0]])"
            ]
          },
          "metadata": {},
          "execution_count": 30
        }
      ]
    },
    {
      "cell_type": "markdown",
      "source": [
        "#### data is clean so i will apply bert directly."
      ],
      "metadata": {
        "id": "rpmy6TUgcjL9"
      }
    },
    {
      "cell_type": "code",
      "source": [
        "from transformers import TFBertModel, BertTokenizer\n",
        "import tensorflow as tf\n",
        "\n",
        "\n",
        "\n",
        "max_length = max([len(sent.split()) for sent in X])\n",
        "\n",
        "bert_model = TFBertModel.from_pretrained(\"bert-base-uncased\")\n",
        "tokenizer = BertTokenizer.from_pretrained(\"bert-base-uncased\")"
      ],
      "metadata": {
        "colab": {
          "base_uri": "https://localhost:8080/",
          "height": 252,
          "referenced_widgets": [
            "0a532ea56abb4675ad92ef271bc3c20f",
            "72a20bd11be94a449c5390fad0a15865",
            "89b9cd3498ae45ed9398b976df225146",
            "d2058669a6a1434d9a9abdfc77da08e0",
            "dd3f4c460c1e48a38160925af2b22547",
            "ad843637734f41359f267f7741de91e6",
            "2aa5fce5fd0d477cbbe1525e9aa06ded",
            "a1f10cdd74ea4734a9273f23f39f03d1",
            "e3b1b365766f4d4d8c2a7953b5db2544",
            "d992b94958224204a870a6d5b0af780c",
            "3e9e1ff0257344aea9f3410ff494d88d",
            "fd9a0fb4b86b4101b80226febf4d0742",
            "90b1db3284a04011875604dc6d908679",
            "d8092bfa4fd54d089f9aad0f422f75c4",
            "886d45b98370456b8a8d2da5ee36614b",
            "f64691a9b0624776842f4d08a3d6c786",
            "19497a81b8a2437bbd01dacf2dbb92b3",
            "c50e525e282840ab95ed4aeb5c8835e2",
            "9aa262e56ec747a6874c8aabc38ccde5",
            "5b87e175dcef40c3966855daba27ca94",
            "92a82eb423ec460f9dc28b1116169673",
            "5cfddd2c3b4541dfaa3322c0f242fd45",
            "0b89a1da1b1846c4bdf43f8dcc5e8f58",
            "bf8a5866f97d43e19e6c00b491f8c747",
            "41e4004019b04ed8af9e3993af1c866d",
            "d5cea7823af34531a5b35ae70c7db50c",
            "df17571ca8b34291a4d0e313c19ae939",
            "73cb71962b9c4981b485463a48e7a37a",
            "9dd53ecdf5384c91b1fefc691871a77e",
            "78576b6d317e4293b734160f8a6c23e0",
            "38447d1c2849483a9c0b0c8afad90013",
            "96135d5189fd431e83fe0bf44bbc2923",
            "4b21ae8be5a749c682e5f3f5d7ce0fd5",
            "aff42ffd391c4637afce9da3a9be9930",
            "94da99b8883f413b9cdce7a3b01395a7",
            "e8d4642fac3b4563830fddc53b6175d9",
            "edf53ff8cf724cd6af5d32ff5c174d5a",
            "90425544d48a4faab18db2abcfcaccce",
            "bd88b598a2064bceacd7c9fcf14b3172",
            "565a6edd4b88453494196419e90f6b1e",
            "6b05fce149cb4cbe8a3a6dde2f7bb110",
            "7aa81b13feb047a5b204b07dcb3a0832",
            "ea61caa1029243f3af882b61b12642c7",
            "ad5486582bf6461c8025d5061172bbf8"
          ]
        },
        "id": "InJ6Mqddcaib",
        "outputId": "5d748918-0786-4d6d-b164-3bf6d534baea"
      },
      "execution_count": 13,
      "outputs": [
        {
          "output_type": "display_data",
          "data": {
            "text/plain": [
              "Downloading (…)lve/main/config.json:   0%|          | 0.00/570 [00:00<?, ?B/s]"
            ],
            "application/vnd.jupyter.widget-view+json": {
              "version_major": 2,
              "version_minor": 0,
              "model_id": "0a532ea56abb4675ad92ef271bc3c20f"
            }
          },
          "metadata": {}
        },
        {
          "output_type": "display_data",
          "data": {
            "text/plain": [
              "Downloading model.safetensors:   0%|          | 0.00/440M [00:00<?, ?B/s]"
            ],
            "application/vnd.jupyter.widget-view+json": {
              "version_major": 2,
              "version_minor": 0,
              "model_id": "fd9a0fb4b86b4101b80226febf4d0742"
            }
          },
          "metadata": {}
        },
        {
          "output_type": "stream",
          "name": "stderr",
          "text": [
            "Some weights of the PyTorch model were not used when initializing the TF 2.0 model TFBertModel: ['cls.predictions.transform.dense.bias', 'cls.predictions.bias', 'cls.predictions.transform.dense.weight', 'cls.predictions.transform.LayerNorm.bias', 'cls.seq_relationship.bias', 'cls.predictions.transform.LayerNorm.weight', 'cls.seq_relationship.weight']\n",
            "- This IS expected if you are initializing TFBertModel from a PyTorch model trained on another task or with another architecture (e.g. initializing a TFBertForSequenceClassification model from a BertForPreTraining model).\n",
            "- This IS NOT expected if you are initializing TFBertModel from a PyTorch model that you expect to be exactly identical (e.g. initializing a TFBertForSequenceClassification model from a BertForSequenceClassification model).\n",
            "All the weights of TFBertModel were initialized from the PyTorch model.\n",
            "If your task is similar to the task the model of the checkpoint was trained on, you can already use TFBertModel for predictions without further training.\n"
          ]
        },
        {
          "output_type": "display_data",
          "data": {
            "text/plain": [
              "Downloading (…)solve/main/vocab.txt:   0%|          | 0.00/232k [00:00<?, ?B/s]"
            ],
            "application/vnd.jupyter.widget-view+json": {
              "version_major": 2,
              "version_minor": 0,
              "model_id": "0b89a1da1b1846c4bdf43f8dcc5e8f58"
            }
          },
          "metadata": {}
        },
        {
          "output_type": "display_data",
          "data": {
            "text/plain": [
              "Downloading (…)okenizer_config.json:   0%|          | 0.00/28.0 [00:00<?, ?B/s]"
            ],
            "application/vnd.jupyter.widget-view+json": {
              "version_major": 2,
              "version_minor": 0,
              "model_id": "aff42ffd391c4637afce9da3a9be9930"
            }
          },
          "metadata": {}
        }
      ]
    },
    {
      "cell_type": "code",
      "source": [
        "def preprocess_data(X, Y):\n",
        "\n",
        "    ids = np.zeros((len(X), max_length))\n",
        "    masks = np.zeros((len(X), max_length))\n",
        "\n",
        "    for i, sentance in enumerate(X):\n",
        "        output_tokens = tokenizer(sentance,\n",
        "                             max_length=max_length,\n",
        "                             truncation=True,\n",
        "                             padding='max_length',\n",
        "                             add_special_tokens=True,\n",
        "                             return_attention_mask=True,\n",
        "                             return_tensors='tf')\n",
        "\n",
        "        ids[i, :], masks[i,:] = output_tokens['input_ids'], output_tokens['attention_mask']\n",
        "\n",
        "    dataset = tf.data.Dataset.from_tensor_slices((ids, masks, Y))\n",
        "\n",
        "    def helper(ids, masks, Y):\n",
        "        return {\n",
        "            'input_ids':ids,\n",
        "            'attention_mask':masks\n",
        "        }, Y\n",
        "\n",
        "    dataset = dataset.map(helper)\n",
        "    dataset = dataset.shuffle(1000000).batch(batch_size=32)\n",
        "    return dataset"
      ],
      "metadata": {
        "id": "_8DIC26KdNPP"
      },
      "execution_count": 14,
      "outputs": []
    },
    {
      "cell_type": "code",
      "source": [
        "dataset = preprocess_data(X, Y_encode)"
      ],
      "metadata": {
        "id": "ZqKS6kK4drMp"
      },
      "execution_count": 15,
      "outputs": []
    },
    {
      "cell_type": "code",
      "source": [
        "train_size = int(0.8 * len(dataset))\n",
        "\n",
        "train_dataset = dataset.take(train_size)\n",
        "test_dataset = dataset.skip(train_size)"
      ],
      "metadata": {
        "id": "vy6c0uaxdxAW"
      },
      "execution_count": 16,
      "outputs": []
    },
    {
      "cell_type": "markdown",
      "source": [
        "### Model Building"
      ],
      "metadata": {
        "id": "vI8KF5L_e22Y"
      }
    },
    {
      "cell_type": "code",
      "source": [
        "from tensorflow import keras\n",
        "\n",
        "input_ids = keras.layers.Input(shape=(max_length,), name='input_ids', dtype='int32')\n",
        "attention_mask = keras.layers.Input(shape=(max_length,), name='attention_mask', dtype='int32')\n",
        "bert_layer = bert_model(input_ids, attention_mask=attention_mask)[0]\n",
        "\n",
        "cnn_layer = keras.layers.Conv1D(filters=64, kernel_size=3, activation=tf.nn.relu)(bert_layer)\n",
        "max_pool = keras.layers.MaxPooling1D(2)(cnn_layer)\n",
        "avgerage_pooling_layer = keras.layers.GlobalAveragePooling1D()(max_pool)\n",
        "batch_norm_layer = keras.layers.BatchNormalization()(avgerage_pooling_layer)\n",
        "\n",
        "dense_layer = keras.layers.Dense(128, activation=tf.nn.relu)(batch_norm_layer)\n",
        "output_layer = keras.layers.Dense(3, activation=tf.nn.softmax)(dense_layer)\n",
        "\n",
        "model = keras.models.Model(inputs=[input_ids, attention_mask], outputs=output_layer)\n",
        "model.layers[2].trainable = False\n",
        "\n",
        "\n",
        "model.compile(optimizer='adam',\n",
        "                   loss='categorical_crossentropy',\n",
        "                   metrics=['accuracy'])"
      ],
      "metadata": {
        "id": "KGFhG20ge5Gy"
      },
      "execution_count": 19,
      "outputs": []
    },
    {
      "cell_type": "code",
      "source": [
        "early_stoping = keras.callbacks.EarlyStopping(patience=10)\n",
        "\n",
        "history = model.fit(train_dataset,\n",
        "                    epochs=100,\n",
        "                    validation_data=test_dataset,\n",
        "                    batch_size=64,\n",
        "                    callbacks=[early_stoping])"
      ],
      "metadata": {
        "colab": {
          "base_uri": "https://localhost:8080/"
        },
        "id": "oM37SNnWfMAm",
        "outputId": "bdd02392-e2b2-4e91-8de2-eadc4e0d530f"
      },
      "execution_count": 20,
      "outputs": [
        {
          "output_type": "stream",
          "name": "stdout",
          "text": [
            "Epoch 1/100\n",
            "375/375 [==============================] - 77s 159ms/step - loss: 0.9093 - accuracy: 0.5701 - val_loss: 0.8301 - val_accuracy: 0.6213\n",
            "Epoch 2/100\n",
            "375/375 [==============================] - 56s 148ms/step - loss: 0.8353 - accuracy: 0.6183 - val_loss: 0.7707 - val_accuracy: 0.6420\n",
            "Epoch 3/100\n",
            "375/375 [==============================] - 55s 145ms/step - loss: 0.7861 - accuracy: 0.6455 - val_loss: 0.7486 - val_accuracy: 0.6640\n",
            "Epoch 4/100\n",
            "375/375 [==============================] - 55s 147ms/step - loss: 0.7459 - accuracy: 0.6706 - val_loss: 0.7052 - val_accuracy: 0.6820\n",
            "Epoch 5/100\n",
            "375/375 [==============================] - 56s 149ms/step - loss: 0.7094 - accuracy: 0.6949 - val_loss: 0.6887 - val_accuracy: 0.7043\n",
            "Epoch 6/100\n",
            "375/375 [==============================] - 66s 174ms/step - loss: 0.6797 - accuracy: 0.7083 - val_loss: 0.6634 - val_accuracy: 0.7080\n",
            "Epoch 7/100\n",
            "375/375 [==============================] - 56s 147ms/step - loss: 0.6452 - accuracy: 0.7300 - val_loss: 0.5488 - val_accuracy: 0.7847\n",
            "Epoch 8/100\n",
            "375/375 [==============================] - 56s 148ms/step - loss: 0.6302 - accuracy: 0.7382 - val_loss: 0.5735 - val_accuracy: 0.7613\n",
            "Epoch 9/100\n",
            "375/375 [==============================] - 66s 174ms/step - loss: 0.6063 - accuracy: 0.7477 - val_loss: 0.5004 - val_accuracy: 0.7953\n",
            "Epoch 10/100\n",
            "375/375 [==============================] - 56s 149ms/step - loss: 0.5783 - accuracy: 0.7633 - val_loss: 0.5135 - val_accuracy: 0.7883\n",
            "Epoch 11/100\n",
            "375/375 [==============================] - 56s 148ms/step - loss: 0.5582 - accuracy: 0.7725 - val_loss: 0.4474 - val_accuracy: 0.8320\n",
            "Epoch 12/100\n",
            "375/375 [==============================] - 55s 146ms/step - loss: 0.5508 - accuracy: 0.7767 - val_loss: 0.4836 - val_accuracy: 0.8067\n",
            "Epoch 13/100\n",
            "375/375 [==============================] - 56s 148ms/step - loss: 0.5218 - accuracy: 0.7915 - val_loss: 0.4004 - val_accuracy: 0.8423\n",
            "Epoch 14/100\n",
            "375/375 [==============================] - 56s 148ms/step - loss: 0.5143 - accuracy: 0.7910 - val_loss: 0.4050 - val_accuracy: 0.8440\n",
            "Epoch 15/100\n",
            "375/375 [==============================] - 55s 146ms/step - loss: 0.4772 - accuracy: 0.8054 - val_loss: 0.3714 - val_accuracy: 0.8623\n",
            "Epoch 16/100\n",
            "375/375 [==============================] - 56s 147ms/step - loss: 0.4721 - accuracy: 0.8126 - val_loss: 0.4084 - val_accuracy: 0.8360\n",
            "Epoch 17/100\n",
            "375/375 [==============================] - 56s 148ms/step - loss: 0.4625 - accuracy: 0.8139 - val_loss: 0.3486 - val_accuracy: 0.8627\n",
            "Epoch 18/100\n",
            "375/375 [==============================] - 56s 148ms/step - loss: 0.4536 - accuracy: 0.8163 - val_loss: 0.3734 - val_accuracy: 0.8573\n",
            "Epoch 19/100\n",
            "375/375 [==============================] - 66s 174ms/step - loss: 0.4335 - accuracy: 0.8257 - val_loss: 0.3123 - val_accuracy: 0.8797\n",
            "Epoch 20/100\n",
            "375/375 [==============================] - 56s 148ms/step - loss: 0.4151 - accuracy: 0.8362 - val_loss: 0.2651 - val_accuracy: 0.9063\n",
            "Epoch 21/100\n",
            "375/375 [==============================] - 55s 147ms/step - loss: 0.4174 - accuracy: 0.8344 - val_loss: 0.2485 - val_accuracy: 0.9100\n",
            "Epoch 22/100\n",
            "375/375 [==============================] - 55s 147ms/step - loss: 0.4033 - accuracy: 0.8404 - val_loss: 0.2852 - val_accuracy: 0.8893\n",
            "Epoch 23/100\n",
            "375/375 [==============================] - 55s 147ms/step - loss: 0.3959 - accuracy: 0.8408 - val_loss: 0.2815 - val_accuracy: 0.8957\n",
            "Epoch 24/100\n",
            "375/375 [==============================] - 66s 175ms/step - loss: 0.3880 - accuracy: 0.8440 - val_loss: 0.2555 - val_accuracy: 0.9103\n",
            "Epoch 25/100\n",
            "375/375 [==============================] - 68s 180ms/step - loss: 0.3725 - accuracy: 0.8547 - val_loss: 0.2545 - val_accuracy: 0.9017\n",
            "Epoch 26/100\n",
            "375/375 [==============================] - 71s 187ms/step - loss: 0.3682 - accuracy: 0.8554 - val_loss: 0.2390 - val_accuracy: 0.9113\n",
            "Epoch 27/100\n",
            "375/375 [==============================] - 57s 150ms/step - loss: 0.3615 - accuracy: 0.8595 - val_loss: 0.2272 - val_accuracy: 0.9123\n",
            "Epoch 28/100\n",
            "375/375 [==============================] - 55s 147ms/step - loss: 0.3526 - accuracy: 0.8616 - val_loss: 0.1749 - val_accuracy: 0.9413\n",
            "Epoch 29/100\n",
            "375/375 [==============================] - 66s 175ms/step - loss: 0.3532 - accuracy: 0.8648 - val_loss: 0.1864 - val_accuracy: 0.9383\n",
            "Epoch 30/100\n",
            "375/375 [==============================] - 66s 174ms/step - loss: 0.3314 - accuracy: 0.8742 - val_loss: 0.2317 - val_accuracy: 0.9130\n",
            "Epoch 31/100\n",
            "375/375 [==============================] - 56s 149ms/step - loss: 0.3292 - accuracy: 0.8720 - val_loss: 0.1947 - val_accuracy: 0.9300\n",
            "Epoch 32/100\n",
            "375/375 [==============================] - 55s 147ms/step - loss: 0.3225 - accuracy: 0.8737 - val_loss: 0.1681 - val_accuracy: 0.9420\n",
            "Epoch 33/100\n",
            "375/375 [==============================] - 56s 148ms/step - loss: 0.3182 - accuracy: 0.8779 - val_loss: 0.1855 - val_accuracy: 0.9367\n",
            "Epoch 34/100\n",
            "375/375 [==============================] - 55s 147ms/step - loss: 0.2970 - accuracy: 0.8888 - val_loss: 0.2295 - val_accuracy: 0.9083\n",
            "Epoch 35/100\n",
            "375/375 [==============================] - 56s 148ms/step - loss: 0.3083 - accuracy: 0.8760 - val_loss: 0.1409 - val_accuracy: 0.9530\n",
            "Epoch 36/100\n",
            "375/375 [==============================] - 56s 148ms/step - loss: 0.3084 - accuracy: 0.8797 - val_loss: 0.1405 - val_accuracy: 0.9557\n",
            "Epoch 37/100\n",
            "375/375 [==============================] - 56s 149ms/step - loss: 0.2981 - accuracy: 0.8875 - val_loss: 0.1484 - val_accuracy: 0.9510\n",
            "Epoch 38/100\n",
            "375/375 [==============================] - 66s 174ms/step - loss: 0.2892 - accuracy: 0.8910 - val_loss: 0.1194 - val_accuracy: 0.9617\n",
            "Epoch 39/100\n",
            "375/375 [==============================] - 66s 176ms/step - loss: 0.2789 - accuracy: 0.8939 - val_loss: 0.1453 - val_accuracy: 0.9490\n",
            "Epoch 40/100\n",
            "375/375 [==============================] - 57s 150ms/step - loss: 0.2848 - accuracy: 0.8920 - val_loss: 0.1183 - val_accuracy: 0.9613\n",
            "Epoch 41/100\n",
            "375/375 [==============================] - 56s 148ms/step - loss: 0.2825 - accuracy: 0.8916 - val_loss: 0.1469 - val_accuracy: 0.9557\n",
            "Epoch 42/100\n",
            "375/375 [==============================] - 56s 150ms/step - loss: 0.2723 - accuracy: 0.8963 - val_loss: 0.1717 - val_accuracy: 0.9367\n",
            "Epoch 43/100\n",
            "375/375 [==============================] - 65s 173ms/step - loss: 0.2678 - accuracy: 0.8946 - val_loss: 0.1112 - val_accuracy: 0.9613\n",
            "Epoch 44/100\n",
            "375/375 [==============================] - 56s 148ms/step - loss: 0.2680 - accuracy: 0.8971 - val_loss: 0.0929 - val_accuracy: 0.9720\n",
            "Epoch 45/100\n",
            "375/375 [==============================] - 56s 148ms/step - loss: 0.2749 - accuracy: 0.8947 - val_loss: 0.1249 - val_accuracy: 0.9597\n",
            "Epoch 46/100\n",
            "375/375 [==============================] - 66s 175ms/step - loss: 0.2653 - accuracy: 0.8994 - val_loss: 0.1240 - val_accuracy: 0.9577\n",
            "Epoch 47/100\n",
            "375/375 [==============================] - 55s 147ms/step - loss: 0.2660 - accuracy: 0.8975 - val_loss: 0.0941 - val_accuracy: 0.9707\n",
            "Epoch 48/100\n",
            "375/375 [==============================] - 66s 174ms/step - loss: 0.2480 - accuracy: 0.9043 - val_loss: 0.1337 - val_accuracy: 0.9570\n",
            "Epoch 49/100\n",
            "375/375 [==============================] - 56s 148ms/step - loss: 0.2482 - accuracy: 0.9027 - val_loss: 0.0860 - val_accuracy: 0.9773\n",
            "Epoch 50/100\n",
            "375/375 [==============================] - 66s 174ms/step - loss: 0.2605 - accuracy: 0.9049 - val_loss: 0.0875 - val_accuracy: 0.9743\n",
            "Epoch 51/100\n",
            "375/375 [==============================] - 56s 148ms/step - loss: 0.2402 - accuracy: 0.9108 - val_loss: 0.1130 - val_accuracy: 0.9617\n",
            "Epoch 52/100\n",
            "375/375 [==============================] - 56s 149ms/step - loss: 0.2349 - accuracy: 0.9097 - val_loss: 0.0965 - val_accuracy: 0.9687\n",
            "Epoch 53/100\n",
            "375/375 [==============================] - 55s 146ms/step - loss: 0.2342 - accuracy: 0.9087 - val_loss: 0.0730 - val_accuracy: 0.9843\n",
            "Epoch 54/100\n",
            "375/375 [==============================] - 56s 149ms/step - loss: 0.2270 - accuracy: 0.9131 - val_loss: 0.1317 - val_accuracy: 0.9540\n",
            "Epoch 55/100\n",
            "375/375 [==============================] - 55s 146ms/step - loss: 0.2275 - accuracy: 0.9122 - val_loss: 0.0881 - val_accuracy: 0.9747\n",
            "Epoch 56/100\n",
            "375/375 [==============================] - 55s 147ms/step - loss: 0.2235 - accuracy: 0.9119 - val_loss: 0.0852 - val_accuracy: 0.9747\n",
            "Epoch 57/100\n",
            "375/375 [==============================] - 55s 147ms/step - loss: 0.2262 - accuracy: 0.9136 - val_loss: 0.0898 - val_accuracy: 0.9733\n",
            "Epoch 58/100\n",
            "375/375 [==============================] - 56s 149ms/step - loss: 0.2267 - accuracy: 0.9140 - val_loss: 0.0944 - val_accuracy: 0.9673\n",
            "Epoch 59/100\n",
            "375/375 [==============================] - 65s 173ms/step - loss: 0.2228 - accuracy: 0.9149 - val_loss: 0.0692 - val_accuracy: 0.9793\n",
            "Epoch 60/100\n",
            "375/375 [==============================] - 66s 175ms/step - loss: 0.2123 - accuracy: 0.9230 - val_loss: 0.0470 - val_accuracy: 0.9887\n",
            "Epoch 61/100\n",
            "375/375 [==============================] - 56s 149ms/step - loss: 0.2130 - accuracy: 0.9197 - val_loss: 0.1109 - val_accuracy: 0.9580\n",
            "Epoch 62/100\n",
            "375/375 [==============================] - 55s 146ms/step - loss: 0.2169 - accuracy: 0.9169 - val_loss: 0.0832 - val_accuracy: 0.9727\n",
            "Epoch 63/100\n",
            "375/375 [==============================] - 56s 148ms/step - loss: 0.2191 - accuracy: 0.9183 - val_loss: 0.0645 - val_accuracy: 0.9840\n",
            "Epoch 64/100\n",
            "375/375 [==============================] - 56s 149ms/step - loss: 0.2232 - accuracy: 0.9172 - val_loss: 0.0609 - val_accuracy: 0.9847\n",
            "Epoch 65/100\n",
            "375/375 [==============================] - 55s 146ms/step - loss: 0.2116 - accuracy: 0.9208 - val_loss: 0.0585 - val_accuracy: 0.9840\n",
            "Epoch 66/100\n",
            "375/375 [==============================] - 65s 174ms/step - loss: 0.2144 - accuracy: 0.9185 - val_loss: 0.0648 - val_accuracy: 0.9833\n",
            "Epoch 67/100\n",
            "375/375 [==============================] - 56s 148ms/step - loss: 0.2062 - accuracy: 0.9221 - val_loss: 0.0646 - val_accuracy: 0.9797\n",
            "Epoch 68/100\n",
            "375/375 [==============================] - 55s 146ms/step - loss: 0.2020 - accuracy: 0.9217 - val_loss: 0.0658 - val_accuracy: 0.9837\n",
            "Epoch 69/100\n",
            "375/375 [==============================] - 56s 148ms/step - loss: 0.1989 - accuracy: 0.9249 - val_loss: 0.0563 - val_accuracy: 0.9863\n",
            "Epoch 70/100\n",
            "375/375 [==============================] - 56s 148ms/step - loss: 0.2092 - accuracy: 0.9202 - val_loss: 0.0526 - val_accuracy: 0.9843\n"
          ]
        }
      ]
    },
    {
      "cell_type": "code",
      "source": [
        "_, accuracy = model.evaluate(test_dataset)"
      ],
      "metadata": {
        "colab": {
          "base_uri": "https://localhost:8080/"
        },
        "id": "Wc01WYCo-nlV",
        "outputId": "dbdfee9b-f6e8-4944-9f08-226259e42058"
      },
      "execution_count": 31,
      "outputs": [
        {
          "output_type": "stream",
          "name": "stdout",
          "text": [
            "94/94 [==============================] - 13s 128ms/step - loss: 0.0520 - accuracy: 0.9860\n"
          ]
        }
      ]
    },
    {
      "cell_type": "code",
      "source": [
        "plt.plot(history.history['loss'], label='train')\n",
        "plt.plot(history.history['val_loss'], label='test')\n",
        "plt.legend()\n",
        "plt.grid()\n",
        "plt.title(\"Train vs Test Loss metric\")\n",
        "plt.show()"
      ],
      "metadata": {
        "colab": {
          "base_uri": "https://localhost:8080/",
          "height": 452
        },
        "id": "Ewz4sfeb_HhP",
        "outputId": "d6149f80-f7c4-4f6a-c358-5422ae33adf7"
      },
      "execution_count": 33,
      "outputs": [
        {
          "output_type": "display_data",
          "data": {
            "text/plain": [
              "<Figure size 640x480 with 1 Axes>"
            ],
            "image/png": "[encoded data removed]"
          },
          "metadata": {}
        }
      ]
    },
    {
      "cell_type": "code",
      "source": [
        "plt.plot(history.history['accuracy'], label='train')\n",
        "plt.plot(history.history['val_accuracy'], label='test')\n",
        "plt.legend()\n",
        "plt.grid()\n",
        "plt.title(\"Train vs Test Accurcy\")\n",
        "plt.show()"
      ],
      "metadata": {
        "colab": {
          "base_uri": "https://localhost:8080/",
          "height": 452
        },
        "id": "d4LHnAPv_d83",
        "outputId": "c2c8cc88-1d39-47b1-f3c7-5b2f61c6a3bc"
      },
      "execution_count": 34,
      "outputs": [
        {
          "output_type": "display_data",
          "data": {
            "text/plain": [
              "<Figure size 640x480 with 1 Axes>"
            ],
            "image/png": "[encoded data removed]"
          },
          "metadata": {}
        }
      ]
    },
    {
      "cell_type": "code",
      "source": [
        "model.save(\"sentimentModel.h5\")"
      ],
      "metadata": {
        "id": "TA9F9NH2FDYU"
      },
      "execution_count": 36,
      "outputs": []
    }
  ]
}